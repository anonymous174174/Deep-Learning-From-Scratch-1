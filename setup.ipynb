{
 "cells": [
  {
   "cell_type": "code",
   "execution_count": 1,
   "id": "cbefc335",
   "metadata": {},
   "outputs": [
    {
     "name": "stdout",
     "output_type": "stream",
     "text": [
      "✅ Project structure created successfully.\n"
     ]
    }
   ],
   "source": [
    "import os\n",
    "\n",
    "# Define directory structure\n",
    "dirs = [\n",
    "    \"data\",\n",
    "    \"models\",\n",
    "    \"optim\",\n",
    "    \"loss\",\n",
    "    \"utils\",\n",
    "    \"experiments\"\n",
    "]\n",
    "\n",
    "# Define empty files to create\n",
    "files = [\n",
    "    \"train.py\",\n",
    "    \"config.py\",\n",
    "    \"requirements.txt\",\n",
    "    \"README.md\",\n",
    "    \"data/dataloader.py\",\n",
    "    \"models/layers.py\",\n",
    "    \"models/neuralnet.py\",\n",
    "    \"optim/optimizers.py\",\n",
    "    \"loss/loss_functions.py\",\n",
    "    \"utils/metrics.py\",\n",
    "    \"utils/wandb_utils.py\",\n",
    "    \"experiments/sweep_config.yaml\"\n",
    "]\n",
    "\n",
    "# Create directories\n",
    "for dir_path in dirs:\n",
    "    os.makedirs(dir_path, exist_ok=True)\n",
    "\n",
    "# Create empty files\n",
    "for file_path in files:\n",
    "    with open(file_path, 'w') as f:\n",
    "        f.write(\"# \" + os.path.basename(file_path))\n",
    "\n",
    "print(\"✅ Project structure created successfully.\")\n"
   ]
  },
  {
   "cell_type": "markdown",
   "id": "b2ce9079",
   "metadata": {},
   "source": [
    "conda command\n",
    "conda create -n dl_cpu_env python=3.10 pytorch torchvision torchaudio cpuonly numpy pandas -c pytorch -c conda-forge\n"
   ]
  },
  {
   "cell_type": "code",
   "execution_count": 2,
   "id": "b0a200e2",
   "metadata": {},
   "outputs": [],
   "source": [
    "import torch\n",
    "w=torch.randn((30,3))\n",
    "x=torch.randn((3,))\n",
    "b=torch.randn((30,))\n"
   ]
  },
  {
   "cell_type": "code",
   "execution_count": 6,
   "id": "db57e0ba",
   "metadata": {},
   "outputs": [
    {
     "data": {
      "text/plain": [
       "(torch.Size([3]), torch.Size([30, 3]), torch.Size([30]))"
      ]
     },
     "execution_count": 6,
     "metadata": {},
     "output_type": "execute_result"
    }
   ],
   "source": [
    "x.shape,w.shape,b.shape"
   ]
  },
  {
   "cell_type": "code",
   "execution_count": 4,
   "id": "6cb0275d",
   "metadata": {},
   "outputs": [
    {
     "data": {
      "text/plain": [
       "True"
      ]
     },
     "execution_count": 4,
     "metadata": {},
     "output_type": "execute_result"
    }
   ],
   "source": [
    "torch.equal(w@x+b,x@w.T+b)"
   ]
  },
  {
   "cell_type": "code",
   "execution_count": 36,
   "id": "72558d33",
   "metadata": {},
   "outputs": [],
   "source": [
    "import torch\n",
    "\n",
    "# suppose\n",
    "# A has shape (B, k2)\n",
    "# B has shape (B, k1)\n",
    "B = 5\n",
    "k1 = 3\n",
    "k2 = 4\n",
    "A = torch.randn(B, k2)\n",
    "B = torch.randn(B, k1)\n",
    "\n",
    "# step 1: make them broadcastable to (B, k2, k1)\n",
    "#   A.unsqueeze(2) has shape (B, k2, 1)\n",
    "#   B.unsqueeze(1) has shape (B, 1, k1)\n",
    "outer = A.unsqueeze(2) * B.unsqueeze(1)\n",
    "# outer.shape == (B, k2, k1)\n",
    "\n",
    "# step 2: sum over the batch dimension → (k2, k1), then add the leading dim\n",
    "final = outer.sum(dim=0, keepdim=True)\n",
    "# final.shape == (1, k2, k1)\n"
   ]
  },
  {
   "cell_type": "code",
   "execution_count": 38,
   "id": "8fd5e093",
   "metadata": {},
   "outputs": [
    {
     "data": {
      "text/plain": [
       "tensor([[[-0.5342, -0.6138, -0.4520],\n",
       "         [ 0.0584,  1.5689,  1.0740],\n",
       "         [-0.1158, -0.8078,  1.9790],\n",
       "         [ 0.9095, -0.0090,  4.5990]]])"
      ]
     },
     "execution_count": 38,
     "metadata": {},
     "output_type": "execute_result"
    }
   ],
   "source": [
    "final"
   ]
  },
  {
   "cell_type": "code",
   "execution_count": 39,
   "id": "9c0b4332",
   "metadata": {},
   "outputs": [
    {
     "data": {
      "text/plain": [
       "tensor([[-0.5245, -0.4977, -0.2554, -0.2298,  0.6503],\n",
       "        [ 0.0698,  0.7999, -0.1477, -0.3370, -1.6321],\n",
       "        [-0.3379, -0.8551,  0.6156,  0.0560, -0.8219],\n",
       "        [ 1.4062, -2.1012, -0.0517,  1.8075, -0.3695]])"
      ]
     },
     "execution_count": 39,
     "metadata": {},
     "output_type": "execute_result"
    }
   ],
   "source": [
    "A.T"
   ]
  },
  {
   "cell_type": "code",
   "execution_count": 37,
   "id": "b360cdd9",
   "metadata": {},
   "outputs": [
    {
     "data": {
      "text/plain": [
       "tensor([[-0.5342, -0.6138, -0.4520],\n",
       "        [ 0.0584,  1.5689,  1.0740],\n",
       "        [-0.1158, -0.8078,  1.9790],\n",
       "        [ 0.9095, -0.0090,  4.5990]])"
      ]
     },
     "execution_count": 37,
     "metadata": {},
     "output_type": "execute_result"
    }
   ],
   "source": [
    "A.T @ B"
   ]
  },
  {
   "cell_type": "code",
   "execution_count": 35,
   "id": "d9a6213e",
   "metadata": {},
   "outputs": [
    {
     "data": {
      "text/plain": [
       "tensor([[[ 1.2372],\n",
       "         [-1.0038],\n",
       "         [ 0.8978],\n",
       "         [ 1.2709]],\n",
       "\n",
       "        [[-1.8119],\n",
       "         [-0.1455],\n",
       "         [ 0.4296],\n",
       "         [ 1.7042]],\n",
       "\n",
       "        [[ 1.1360],\n",
       "         [ 0.1541],\n",
       "         [ 0.0899],\n",
       "         [ 2.1361]],\n",
       "\n",
       "        [[-0.6191],\n",
       "         [-0.3832],\n",
       "         [-0.3599],\n",
       "         [-1.0618]],\n",
       "\n",
       "        [[ 0.3360],\n",
       "         [ 1.1204],\n",
       "         [-1.0190],\n",
       "         [-1.2992]]])"
      ]
     },
     "execution_count": 35,
     "metadata": {},
     "output_type": "execute_result"
    }
   ],
   "source": [
    "A.unsqueeze(2)"
   ]
  },
  {
   "cell_type": "code",
   "execution_count": 34,
   "id": "1c5588df",
   "metadata": {},
   "outputs": [
    {
     "data": {
      "text/plain": [
       "tensor([[[ 0.5908, -0.6767,  1.2283]],\n",
       "\n",
       "        [[ 0.9299,  0.1274,  0.7840]],\n",
       "\n",
       "        [[ 1.2670,  0.5035, -0.0287]],\n",
       "\n",
       "        [[-1.2888,  0.7492,  0.0628]],\n",
       "\n",
       "        [[-0.5339,  1.2623,  0.5710]]])"
      ]
     },
     "execution_count": 34,
     "metadata": {},
     "output_type": "execute_result"
    }
   ],
   "source": [
    "B.unsqueeze(1)"
   ]
  },
  {
   "cell_type": "code",
   "execution_count": 7,
   "id": "3652a33c",
   "metadata": {},
   "outputs": [
    {
     "data": {
      "text/plain": [
       "tensor([[[ 1.1039, -0.5358,  0.2195],\n",
       "         [-0.6374,  1.8656, -0.7358],\n",
       "         [ 2.0516, -2.0635,  0.8326],\n",
       "         [ 7.1039, -2.0029,  2.0271]]])"
      ]
     },
     "execution_count": 7,
     "metadata": {},
     "output_type": "execute_result"
    }
   ],
   "source": [
    "final"
   ]
  },
  {
   "cell_type": "code",
   "execution_count": 14,
   "id": "a06b708e",
   "metadata": {},
   "outputs": [
    {
     "data": {
      "text/plain": [
       "tensor([[ 1.2372, -1.0038,  0.8978,  1.2709],\n",
       "        [-1.8119, -0.1455,  0.4296,  1.7042],\n",
       "        [ 1.1360,  0.1541,  0.0899,  2.1361],\n",
       "        [-0.6191, -0.3832, -0.3599, -1.0618],\n",
       "        [ 0.3360,  1.1204, -1.0190, -1.2992]])"
      ]
     },
     "execution_count": 14,
     "metadata": {},
     "output_type": "execute_result"
    }
   ],
   "source": [
    "A"
   ]
  },
  {
   "cell_type": "code",
   "execution_count": 17,
   "id": "6cb0097f",
   "metadata": {},
   "outputs": [
    {
     "data": {
      "text/plain": [
       "tensor([ 0.5908, -0.6767,  1.2283])"
      ]
     },
     "execution_count": 17,
     "metadata": {},
     "output_type": "execute_result"
    }
   ],
   "source": [
    "B[0,:]"
   ]
  },
  {
   "cell_type": "code",
   "execution_count": 18,
   "id": "270cdcad",
   "metadata": {},
   "outputs": [
    {
     "data": {
      "text/plain": [
       "tensor([ 1.2372, -1.0038,  0.8978,  1.2709])"
      ]
     },
     "execution_count": 18,
     "metadata": {},
     "output_type": "execute_result"
    }
   ],
   "source": [
    "A[0,:].T"
   ]
  },
  {
   "cell_type": "code",
   "execution_count": 23,
   "id": "3b816e86",
   "metadata": {},
   "outputs": [
    {
     "data": {
      "text/plain": [
       "torch.Size([1, 4])"
      ]
     },
     "execution_count": 23,
     "metadata": {},
     "output_type": "execute_result"
    }
   ],
   "source": [
    "A[0,:].T.unsqueeze(0).shape"
   ]
  },
  {
   "cell_type": "code",
   "execution_count": 16,
   "id": "cb1ac406",
   "metadata": {},
   "outputs": [
    {
     "name": "stderr",
     "output_type": "stream",
     "text": [
      "/tmp/ipykernel_48265/2399136939.py:1: UserWarning: The use of `x.T` on tensors of dimension other than 2 to reverse their shape is deprecated and it will throw an error in a future release. Consider `x.mT` to transpose batches of matrices or `x.permute(*torch.arange(x.ndim - 1, -1, -1))` to reverse the dimensions of a tensor. (Triggered internally at /opt/conda/conda-bld/pytorch_1729647176142/work/aten/src/ATen/native/TensorShape.cpp:3683.)\n",
      "  A[0,:].T@B[0,:]\n"
     ]
    },
    {
     "ename": "RuntimeError",
     "evalue": "inconsistent tensor size, expected tensor [4] and src [3] to have the same number of elements, but got 4 and 3 elements respectively",
     "output_type": "error",
     "traceback": [
      "\u001b[0;31m---------------------------------------------------------------------------\u001b[0m",
      "\u001b[0;31mRuntimeError\u001b[0m                              Traceback (most recent call last)",
      "Cell \u001b[0;32mIn[16], line 1\u001b[0m\n\u001b[0;32m----> 1\u001b[0m \u001b[43mA\u001b[49m\u001b[43m[\u001b[49m\u001b[38;5;241;43m0\u001b[39;49m\u001b[43m,\u001b[49m\u001b[43m:\u001b[49m\u001b[43m]\u001b[49m\u001b[38;5;241;43m.\u001b[39;49m\u001b[43mT\u001b[49m\u001b[38;5;129;43m@B\u001b[39;49m\u001b[43m[\u001b[49m\u001b[38;5;241;43m0\u001b[39;49m\u001b[43m,\u001b[49m\u001b[43m:\u001b[49m\u001b[43m]\u001b[49m\n",
      "\u001b[0;31mRuntimeError\u001b[0m: inconsistent tensor size, expected tensor [4] and src [3] to have the same number of elements, but got 4 and 3 elements respectively"
     ]
    }
   ],
   "source": [
    "A[0,:].T@B[0,:]"
   ]
  },
  {
   "cell_type": "code",
   "execution_count": 30,
   "id": "93508190",
   "metadata": {},
   "outputs": [
    {
     "data": {
      "text/plain": [
       "tensor([[ 1.2372, -1.0038,  0.8978,  1.2709],\n",
       "        [-1.8119, -0.1455,  0.4296,  1.7042],\n",
       "        [ 1.1360,  0.1541,  0.0899,  2.1361],\n",
       "        [-0.6191, -0.3832, -0.3599, -1.0618],\n",
       "        [ 0.3360,  1.1204, -1.0190, -1.2992]])"
      ]
     },
     "execution_count": 30,
     "metadata": {},
     "output_type": "execute_result"
    }
   ],
   "source": [
    "A\n"
   ]
  },
  {
   "cell_type": "code",
   "execution_count": 32,
   "id": "1bdfb307",
   "metadata": {},
   "outputs": [
    {
     "data": {
      "text/plain": [
       "tensor([[ 1.2372],\n",
       "        [-1.0038],\n",
       "        [ 0.8978],\n",
       "        [ 1.2709]])"
      ]
     },
     "execution_count": 32,
     "metadata": {},
     "output_type": "execute_result"
    }
   ],
   "source": [
    "A[0,:].T.unsqueeze(1)"
   ]
  },
  {
   "cell_type": "code",
   "execution_count": 33,
   "id": "9bc28ee4",
   "metadata": {},
   "outputs": [
    {
     "data": {
      "text/plain": [
       "tensor([[ 0.5908, -0.6767,  1.2283]])"
      ]
     },
     "execution_count": 33,
     "metadata": {},
     "output_type": "execute_result"
    }
   ],
   "source": [
    "B[0,:].unsqueeze(0)"
   ]
  },
  {
   "cell_type": "code",
   "execution_count": 31,
   "id": "657d8a33",
   "metadata": {},
   "outputs": [
    {
     "data": {
      "text/plain": [
       "tensor([[ 0.5908, -0.6767,  1.2283],\n",
       "        [ 0.9299,  0.1274,  0.7840],\n",
       "        [ 1.2670,  0.5035, -0.0287],\n",
       "        [-1.2888,  0.7492,  0.0628],\n",
       "        [-0.5339,  1.2623,  0.5710]])"
      ]
     },
     "execution_count": 31,
     "metadata": {},
     "output_type": "execute_result"
    }
   ],
   "source": [
    "B"
   ]
  },
  {
   "cell_type": "code",
   "execution_count": 29,
   "id": "c5b04428",
   "metadata": {},
   "outputs": [
    {
     "data": {
      "text/plain": [
       "tensor([[ 0.7309, -0.8372,  1.5196],\n",
       "        [-0.5930,  0.6793, -1.2330],\n",
       "        [ 0.5304, -0.6076,  1.1028],\n",
       "        [ 0.7508, -0.8600,  1.5610]])"
      ]
     },
     "execution_count": 29,
     "metadata": {},
     "output_type": "execute_result"
    }
   ],
   "source": [
    "A[0,:].T.unsqueeze(1)@B[0,:].unsqueeze(0)"
   ]
  },
  {
   "cell_type": "code",
   "execution_count": 28,
   "id": "c18a85b7",
   "metadata": {},
   "outputs": [
    {
     "data": {
      "text/plain": [
       "tensor([[[ 7.3086e-01, -8.3722e-01,  1.5196e+00],\n",
       "         [-5.9302e-01,  6.7932e-01, -1.2330e+00],\n",
       "         [ 5.3041e-01, -6.0759e-01,  1.1028e+00],\n",
       "         [ 7.5078e-01, -8.6004e-01,  1.5610e+00]],\n",
       "\n",
       "        [[-1.6848e+00, -2.3081e-01, -1.4205e+00],\n",
       "         [-1.3529e-01, -1.8534e-02, -1.1407e-01],\n",
       "         [ 3.9946e-01,  5.4724e-02,  3.3679e-01],\n",
       "         [ 1.5846e+00,  2.1709e-01,  1.3360e+00]],\n",
       "\n",
       "        [[ 1.4393e+00,  5.7196e-01, -3.2643e-02],\n",
       "         [ 1.9528e-01,  7.7606e-02, -4.4291e-03],\n",
       "         [ 1.1384e-01,  4.5240e-02, -2.5819e-03],\n",
       "         [ 2.7063e+00,  1.0755e+00, -6.1381e-02]],\n",
       "\n",
       "        [[ 7.9797e-01, -4.6386e-01, -3.8889e-02],\n",
       "         [ 4.9387e-01, -2.8708e-01, -2.4069e-02],\n",
       "         [ 4.6385e-01, -2.6963e-01, -2.2605e-02],\n",
       "         [ 1.3685e+00, -7.9551e-01, -6.6694e-02]],\n",
       "\n",
       "        [[-1.7941e-01,  4.2417e-01,  1.9188e-01],\n",
       "         [-5.9820e-01,  1.4143e+00,  6.3979e-01],\n",
       "         [ 5.4403e-01, -1.2862e+00, -5.8185e-01],\n",
       "         [ 6.9364e-01, -1.6400e+00, -7.4187e-01]]])"
      ]
     },
     "execution_count": 28,
     "metadata": {},
     "output_type": "execute_result"
    }
   ],
   "source": [
    "outer"
   ]
  },
  {
   "cell_type": "code",
   "execution_count": 9,
   "id": "d16f5e66",
   "metadata": {},
   "outputs": [
    {
     "data": {
      "text/plain": [
       "tensor([[[ 1.1039, -0.5358,  0.2195],\n",
       "         [-0.6374,  1.8656, -0.7358],\n",
       "         [ 2.0516, -2.0635,  0.8326],\n",
       "         [ 7.1039, -2.0029,  2.0271]]])"
      ]
     },
     "execution_count": 9,
     "metadata": {},
     "output_type": "execute_result"
    }
   ],
   "source": [
    "final"
   ]
  },
  {
   "cell_type": "code",
   "execution_count": 8,
   "id": "3b4a9f98",
   "metadata": {},
   "outputs": [],
   "source": [
    "import torch\n",
    "# B = 5\n",
    "# k1 = 3\n",
    "# k2 = 4\n",
    "# A = torch.randn(B, k2)\n",
    "# B = torch.randn(B, k1)\n",
    "\n",
    "# direct outer‐product per batch\n",
    "outer = torch.einsum('bi,bj->bij', A, B)\n",
    "# outer.shape == (B, k2, k1)\n",
    "\n",
    "# sum over batch\n",
    "final = outer.sum(0, keepdim=True)\n",
    "# final.shape == (1, k2, k1)\n"
   ]
  },
  {
   "cell_type": "code",
   "execution_count": 43,
   "id": "9dc4a293",
   "metadata": {},
   "outputs": [
    {
     "name": "stdout",
     "output_type": "stream",
     "text": [
      "<class 'range'>\n"
     ]
    }
   ],
   "source": [
    "k=range(5,0,-1)\n",
    "print(type(k))"
   ]
  },
  {
   "cell_type": "code",
   "execution_count": 45,
   "id": "fcea9bf5",
   "metadata": {},
   "outputs": [
    {
     "name": "stdout",
     "output_type": "stream",
     "text": [
      "5\n",
      "4\n",
      "3\n",
      "2\n",
      "1\n",
      "0\n"
     ]
    }
   ],
   "source": [
    "for i in range(5,-1,-1):\n",
    "    print(i)"
   ]
  },
  {
   "cell_type": "code",
   "execution_count": null,
   "id": "bc149656",
   "metadata": {},
   "outputs": [],
   "source": []
  }
 ],
 "metadata": {
  "kernelspec": {
   "display_name": "dl_cpu_env",
   "language": "python",
   "name": "python3"
  },
  "language_info": {
   "codemirror_mode": {
    "name": "ipython",
    "version": 3
   },
   "file_extension": ".py",
   "mimetype": "text/x-python",
   "name": "python",
   "nbconvert_exporter": "python",
   "pygments_lexer": "ipython3",
   "version": "3.10.17"
  }
 },
 "nbformat": 4,
 "nbformat_minor": 5
}
