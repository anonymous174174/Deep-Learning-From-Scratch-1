{
 "cells": [
  {
   "cell_type": "code",
   "execution_count": 1,
   "id": "cbefc335",
   "metadata": {},
   "outputs": [
    {
     "name": "stdout",
     "output_type": "stream",
     "text": [
      "✅ Project structure created successfully.\n"
     ]
    }
   ],
   "source": [
    "import os\n",
    "\n",
    "# Define directory structure\n",
    "dirs = [\n",
    "    \"data\",\n",
    "    \"models\",\n",
    "    \"optim\",\n",
    "    \"loss\",\n",
    "    \"utils\",\n",
    "    \"experiments\"\n",
    "]\n",
    "\n",
    "# Define empty files to create\n",
    "files = [\n",
    "    \"train.py\",\n",
    "    \"config.py\",\n",
    "    \"requirements.txt\",\n",
    "    \"README.md\",\n",
    "    \"data/dataloader.py\",\n",
    "    \"models/layers.py\",\n",
    "    \"models/neuralnet.py\",\n",
    "    \"optim/optimizers.py\",\n",
    "    \"loss/loss_functions.py\",\n",
    "    \"utils/metrics.py\",\n",
    "    \"utils/wandb_utils.py\",\n",
    "    \"experiments/sweep_config.yaml\"\n",
    "]\n",
    "\n",
    "# Create directories\n",
    "for dir_path in dirs:\n",
    "    os.makedirs(dir_path, exist_ok=True)\n",
    "\n",
    "# Create empty files\n",
    "for file_path in files:\n",
    "    with open(file_path, 'w') as f:\n",
    "        f.write(\"# \" + os.path.basename(file_path))\n",
    "\n",
    "print(\"✅ Project structure created successfully.\")\n"
   ]
  },
  {
   "cell_type": "markdown",
   "id": "b2ce9079",
   "metadata": {},
   "source": [
    "conda command\n",
    "conda create -n dl_cpu_env python=3.10 pytorch torchvision torchaudio cpuonly numpy pandas -c pytorch -c conda-forge\n"
   ]
  },
  {
   "cell_type": "code",
   "execution_count": 2,
   "id": "b0a200e2",
   "metadata": {},
   "outputs": [],
   "source": [
    "import torch\n",
    "w=torch.randn((30,3))\n",
    "x=torch.randn((3,))\n",
    "b=torch.randn((30,))\n"
   ]
  },
  {
   "cell_type": "code",
   "execution_count": 6,
   "id": "db57e0ba",
   "metadata": {},
   "outputs": [
    {
     "data": {
      "text/plain": [
       "(torch.Size([3]), torch.Size([30, 3]), torch.Size([30]))"
      ]
     },
     "execution_count": 6,
     "metadata": {},
     "output_type": "execute_result"
    }
   ],
   "source": [
    "x.shape,w.shape,b.shape"
   ]
  },
  {
   "cell_type": "code",
   "execution_count": 4,
   "id": "6cb0275d",
   "metadata": {},
   "outputs": [
    {
     "data": {
      "text/plain": [
       "True"
      ]
     },
     "execution_count": 4,
     "metadata": {},
     "output_type": "execute_result"
    }
   ],
   "source": [
    "torch.equal(w@x+b,x@w.T+b)"
   ]
  }
 ],
 "metadata": {
  "kernelspec": {
   "display_name": "dl_cpu_env",
   "language": "python",
   "name": "python3"
  },
  "language_info": {
   "codemirror_mode": {
    "name": "ipython",
    "version": 3
   },
   "file_extension": ".py",
   "mimetype": "text/x-python",
   "name": "python",
   "nbconvert_exporter": "python",
   "pygments_lexer": "ipython3",
   "version": "3.10.17"
  }
 },
 "nbformat": 4,
 "nbformat_minor": 5
}
