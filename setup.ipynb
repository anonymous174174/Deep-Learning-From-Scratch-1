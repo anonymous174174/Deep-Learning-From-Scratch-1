{
 "cells": [
  {
   "cell_type": "code",
   "execution_count": 1,
   "id": "cbefc335",
   "metadata": {},
   "outputs": [
    {
     "name": "stdout",
     "output_type": "stream",
     "text": [
      "✅ Project structure created successfully.\n"
     ]
    }
   ],
   "source": [
    "import os\n",
    "\n",
    "# Define directory structure\n",
    "dirs = [\n",
    "    \"data\",\n",
    "    \"models\",\n",
    "    \"optim\",\n",
    "    \"loss\",\n",
    "    \"utils\",\n",
    "    \"experiments\"\n",
    "]\n",
    "\n",
    "# Define empty files to create\n",
    "files = [\n",
    "    \"train.py\",\n",
    "    \"config.py\",\n",
    "    \"requirements.txt\",\n",
    "    \"README.md\",\n",
    "    \"data/dataloader.py\",\n",
    "    \"models/layers.py\",\n",
    "    \"models/neuralnet.py\",\n",
    "    \"optim/optimizers.py\",\n",
    "    \"loss/loss_functions.py\",\n",
    "    \"utils/metrics.py\",\n",
    "    \"utils/wandb_utils.py\",\n",
    "    \"experiments/sweep_config.yaml\"\n",
    "]\n",
    "\n",
    "# Create directories\n",
    "for dir_path in dirs:\n",
    "    os.makedirs(dir_path, exist_ok=True)\n",
    "\n",
    "# Create empty files\n",
    "for file_path in files:\n",
    "    with open(file_path, 'w') as f:\n",
    "        f.write(\"# \" + os.path.basename(file_path))\n",
    "\n",
    "print(\"✅ Project structure created successfully.\")\n"
   ]
  }
 ],
 "metadata": {
  "kernelspec": {
   "display_name": "Python 3",
   "language": "python",
   "name": "python3"
  },
  "language_info": {
   "codemirror_mode": {
    "name": "ipython",
    "version": 3
   },
   "file_extension": ".py",
   "mimetype": "text/x-python",
   "name": "python",
   "nbconvert_exporter": "python",
   "pygments_lexer": "ipython3",
   "version": "3.12.1"
  }
 },
 "nbformat": 4,
 "nbformat_minor": 5
}
